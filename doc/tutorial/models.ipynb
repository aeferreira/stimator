{
 "cells": [
  {
   "cell_type": "markdown",
   "metadata": {},
   "source": [
    "## 2 - More on models and model description"
   ]
  },
  {
   "cell_type": "markdown",
   "metadata": {},
   "source": [
    "This chapter will focus on the \"mini-language\" used to describe models in S-timator and also on the model objects created by function `read_model()`"
   ]
  },
  {
   "cell_type": "code",
   "execution_count": null,
   "metadata": {
    "collapsed": false
   },
   "outputs": [],
   "source": [
    "%matplotlib inline\n",
    "from stimator import read_model"
   ]
  },
  {
   "cell_type": "markdown",
   "metadata": {},
   "source": [
    "Pick up example open two-enzyme system:\n",
    "\n",
    "![Example: a two-reaction open chemical system](2chem_open.png)"
   ]
  },
  {
   "cell_type": "markdown",
   "metadata": {},
   "source": [
    "Minimum of a model declaration\n",
    "\n",
    "- title\n",
    "- reactions\n",
    "- parameters\n",
    "- init"
   ]
  },
  {
   "cell_type": "code",
   "execution_count": null,
   "metadata": {
    "collapsed": false
   },
   "outputs": [],
   "source": [
    "model_description = \"\"\"\n",
    "title An open two-reaction chemical system\n",
    "\n",
    "inflow: -> A, rate = kin\n",
    "r1: A -> B, rate = k1 * A\n",
    "r2: B -> C, rate = k2 * B - k3 * C\n",
    "outflow: C ->, rate = kout * C\n",
    "\n",
    "kin = 0.5\n",
    "k1 = 0.1\n",
    "k2 = 2\n",
    "k3 = 1\n",
    "kout = 0.2\n",
    "\n",
    "init: (A = 0, B = 0, C = 0)\n",
    "\"\"\"\n",
    "\n",
    "m = read_model(model_description)"
   ]
  },
  {
   "cell_type": "code",
   "execution_count": null,
   "metadata": {
    "collapsed": false
   },
   "outputs": [],
   "source": [
    "print m"
   ]
  },
  {
   "cell_type": "markdown",
   "metadata": {},
   "source": [
    "### 2.1 - Reactions"
   ]
  },
  {
   "cell_type": "code",
   "execution_count": null,
   "metadata": {
    "collapsed": false
   },
   "outputs": [],
   "source": [
    "for v in m.reactions:\n",
    "    print (v)"
   ]
  },
  {
   "cell_type": "code",
   "execution_count": null,
   "metadata": {
    "collapsed": false
   },
   "outputs": [],
   "source": [
    "for v in m.reactions:\n",
    "    print (v.name)"
   ]
  },
  {
   "cell_type": "code",
   "execution_count": null,
   "metadata": {
    "collapsed": false
   },
   "outputs": [],
   "source": [
    "v = m.reactions.r1\n",
    "print (v.name)\n",
    "print (v.reagents)\n",
    "print (v.products)\n",
    "print (v.stoichiometry_string)\n",
    "print (v.stoichiometry)\n",
    "print (v())"
   ]
  },
  {
   "cell_type": "code",
   "execution_count": null,
   "metadata": {
    "collapsed": false
   },
   "outputs": [],
   "source": [
    "print (m.varnames)\n",
    "for p in m.parameters:\n",
    "    print ('%6s = %g' % (p.name, p))"
   ]
  },
  {
   "cell_type": "markdown",
   "metadata": {},
   "source": [
    "### 2.2 - Transformations"
   ]
  },
  {
   "cell_type": "code",
   "execution_count": null,
   "metadata": {
    "collapsed": false
   },
   "outputs": [],
   "source": [
    "model_description = \"\"\"\n",
    "title An open two-reaction chemical system\n",
    "\n",
    "inflow: -> A, rate = kin\n",
    "r1: A -> B, rate = k1 * A\n",
    "r2: B -> C, rate = k2 * B - k3 * C\n",
    "outflow: C ->, rate = kout * C\n",
    "\n",
    "kin = 0.5\n",
    "k1 = 0.1\n",
    "k2 = 2\n",
    "k3 = 1\n",
    "kout = 0.2\n",
    "\n",
    "init: (A = 0, B = 0, C = 0)\n",
    "\n",
    "~ total = A + B + C\n",
    "\"\"\"\n",
    "\n",
    "m = read_model(model_description)"
   ]
  },
  {
   "cell_type": "code",
   "execution_count": null,
   "metadata": {
    "collapsed": false
   },
   "outputs": [],
   "source": [
    "print m"
   ]
  },
  {
   "cell_type": "code",
   "execution_count": null,
   "metadata": {
    "collapsed": false
   },
   "outputs": [],
   "source": [
    "m.solve(tf=50.0, outputs=[\"total\", 'A', 'B', 'C']).plot(show=True)"
   ]
  },
  {
   "cell_type": "markdown",
   "metadata": {},
   "source": [
    "### 2.3 - Local parameters in processes"
   ]
  },
  {
   "cell_type": "code",
   "execution_count": null,
   "metadata": {
    "collapsed": false
   },
   "outputs": [],
   "source": [
    "model_description = \"\"\"\n",
    "title An open two-reaction chemical system\n",
    "\n",
    "inflow: -> A, rate = kin\n",
    "r1: A -> B, rate = k * A, k = 0.1\n",
    "r2: B -> C, rate = kf * B - kr * C, kf = 2, kr = 1\n",
    "outflow: C ->, rate = kout * C\n",
    "\n",
    "kin = 0.5\n",
    "kout = 0.2\n",
    "\n",
    "init: (A = 0, B = 0, C = 0)\n",
    "\n",
    "~ total = A + B + C\n",
    "\"\"\"\n",
    "\n",
    "m = read_model(model_description)"
   ]
  },
  {
   "cell_type": "code",
   "execution_count": null,
   "metadata": {
    "collapsed": false
   },
   "outputs": [],
   "source": [
    "print m\n",
    "m.solve(tf=50.0, outputs=[\"total\", 'A', 'B', 'C']).plot()"
   ]
  },
  {
   "cell_type": "code",
   "execution_count": null,
   "metadata": {
    "collapsed": false
   },
   "outputs": [],
   "source": [
    "for p in m.parameters:\n",
    "    print p.name, p"
   ]
  },
  {
   "cell_type": "markdown",
   "metadata": {},
   "source": [
    "### 2.4 - External variables"
   ]
  },
  {
   "cell_type": "code",
   "execution_count": null,
   "metadata": {
    "collapsed": false
   },
   "outputs": [],
   "source": [
    "m = read_model(\"\"\"\n",
    "title An open two-reaction chemical system\n",
    "\n",
    "inflow: D -> A, rate = kin * D\n",
    "r1: A -> B, rate = k * A, k = 0.1\n",
    "r2: B -> C, rate = kf * B - kr * C, kf = 2, kr = 1\n",
    "outflow: C -> E, rate = kout * C\n",
    "\n",
    "D = 1\n",
    "kin = 0.5\n",
    "kout = 0.2\n",
    "E = 2\n",
    "\n",
    "init: (A = 0, B = 0, C = 0)\n",
    "\n",
    "~ total = A + B + C\n",
    "\"\"\")"
   ]
  },
  {
   "cell_type": "code",
   "execution_count": null,
   "metadata": {
    "collapsed": false
   },
   "outputs": [],
   "source": [
    "print m\n",
    "m.solve(tf=50.0, outputs=['A', 'B', 'C', 'D', 'E']).plot()"
   ]
  },
  {
   "cell_type": "markdown",
   "metadata": {},
   "source": [
    "### 2.5 - Declaration of outputs"
   ]
  },
  {
   "cell_type": "code",
   "execution_count": null,
   "metadata": {
    "collapsed": false
   },
   "outputs": [],
   "source": [
    "m = read_model(\"\"\"\n",
    "title An open two-reaction chemical system\n",
    "\n",
    "inflow: D -> A, rate = kin * D\n",
    "r1: A -> B, rate = k * A, k = 0.1\n",
    "r2: B -> C, rate = kf * B - kr * C, kf = 2, kr = 1\n",
    "outflow: C -> E, rate = kout * C\n",
    "\n",
    "D = 1\n",
    "kin = 0.5\n",
    "kout = 0.2\n",
    "E = 2\n",
    "\n",
    "init: (A = 0, B = 0, C = 0)\n",
    "\n",
    "~ total = A + B + C\n",
    "\n",
    "!! C D E\n",
    "\"\"\")\n",
    "m.solve(tf=50.0).plot()"
   ]
  },
  {
   "cell_type": "code",
   "execution_count": null,
   "metadata": {
    "collapsed": false
   },
   "outputs": [],
   "source": [
    "m.solve(tf=50.0, outputs=['total', 'A']).plot()"
   ]
  },
  {
   "cell_type": "code",
   "execution_count": null,
   "metadata": {
    "collapsed": false
   },
   "outputs": [],
   "source": [
    "m.solve(tf=50.0, outputs=['->', 'D']).plot()"
   ]
  },
  {
   "cell_type": "markdown",
   "metadata": {},
   "source": [
    "### 2.6 - Explicit differential equations"
   ]
  },
  {
   "cell_type": "code",
   "execution_count": null,
   "metadata": {
    "collapsed": false
   },
   "outputs": [],
   "source": [
    "m = read_model(\"\"\"\n",
    "title mass on a spring, frictionless\n",
    "\n",
    "# F = m * a = m * v' = - k * x\n",
    "# by Hooke's law and Newton's law of motion\n",
    "\n",
    "v' = -(k * x) / m\n",
    "x' = v\n",
    "\n",
    "m = 0.5\n",
    "k = 1\n",
    "\n",
    "init: x = 1\n",
    "\"\"\")\n",
    "m.solve(tf=10.0).plot()"
   ]
  },
  {
   "cell_type": "code",
   "execution_count": null,
   "metadata": {
    "collapsed": false
   },
   "outputs": [],
   "source": [
    "m = read_model(\"\"\"\n",
    "title mass on a spring, with friction\n",
    "\n",
    "# using Hooke's law and friction proportional to speed,\n",
    "# F = m * a = m * v' = - k * x - b * v\n",
    "\n",
    "v' = (-k*x - b*v) / m\n",
    "x' = v\n",
    "\n",
    "m = 0.5\n",
    "k = 1\n",
    "b = 0.5\n",
    "\n",
    "init: x = 1\n",
    "\"\"\")\n",
    "m.solve(tf=10.0).plot()"
   ]
  },
  {
   "cell_type": "markdown",
   "metadata": {},
   "source": [
    "### 2.7 - Forcing functions"
   ]
  },
  {
   "cell_type": "code",
   "execution_count": null,
   "metadata": {
    "collapsed": false
   },
   "outputs": [],
   "source": [
    "m = read_model(\"\"\"\n",
    "title An open two-reaction chemical system\n",
    "\n",
    "inflow: D -> A, rate = kin * D * step(t, 10, 1)\n",
    "r1: A -> B, rate = k * A, k = 0.1\n",
    "r2: B -> C, rate = kf * B - kr * C, kf = 2, kr = 1\n",
    "outflow: C -> E, rate = kout * C\n",
    "\n",
    "D = 1\n",
    "kin = 0.5\n",
    "kout = 0.2\n",
    "E = 2\n",
    "\n",
    "init: (A = 0, B = 0, C = 0)\n",
    "\n",
    "!! inflow A B C E\n",
    "\"\"\")\n",
    "m.solve(tf=50.0).plot()"
   ]
  },
  {
   "cell_type": "code",
   "execution_count": null,
   "metadata": {
    "collapsed": false
   },
   "outputs": [],
   "source": []
  }
 ],
 "metadata": {
  "kernelspec": {
   "display_name": "Python 2",
   "language": "python",
   "name": "python2"
  },
  "language_info": {
   "codemirror_mode": {
    "name": "ipython",
    "version": 2
   },
   "file_extension": ".py",
   "mimetype": "text/x-python",
   "name": "python",
   "nbconvert_exporter": "python",
   "pygments_lexer": "ipython2",
   "version": "2.7.6"
  }
 },
 "nbformat": 4,
 "nbformat_minor": 0
}
