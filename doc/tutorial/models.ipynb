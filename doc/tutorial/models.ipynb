{
 "metadata": {
  "name": "",
  "signature": "sha256:d742660246f8c9fcb83df0001ecdbded692577b8e4fa7d2f0aa5b60ecdbd698e"
 },
 "nbformat": 3,
 "nbformat_minor": 0,
 "worksheets": [
  {
   "cells": [
    {
     "cell_type": "heading",
     "level": 2,
     "metadata": {},
     "source": [
      "2 - More on models and model description"
     ]
    },
    {
     "cell_type": "markdown",
     "metadata": {},
     "source": [
      "This chapter will focus on the \"mini-language\" used to describe models in S-timator and also on the model objects created by function `read_model()`"
     ]
    },
    {
     "cell_type": "code",
     "collapsed": false,
     "input": [
      "from stimator import read_model\n",
      "%matplotlib inline"
     ],
     "language": "python",
     "metadata": {},
     "outputs": []
    },
    {
     "cell_type": "markdown",
     "metadata": {},
     "source": [
      "Pick up example open two-enzyme system:\n",
      "\n",
      "![Example: a two-reaction open chemical system](2chem_open.png)"
     ]
    },
    {
     "cell_type": "markdown",
     "metadata": {},
     "source": [
      "Minimum of a model declaration\n",
      "\n",
      "- title\n",
      "- reactions\n",
      "- parameters\n",
      "- init"
     ]
    },
    {
     "cell_type": "code",
     "collapsed": false,
     "input": [
      "model_description = \"\"\"\n",
      "title An open two-reaction chemical system\n",
      "\n",
      "inflow: -> A, rate = kin\n",
      "r1: A -> B, rate = k1 * A\n",
      "r2: B -> C, rate = k2 * B - k3 * C\n",
      "outflow: C ->, rate = kout * C\n",
      "\n",
      "kin = 0.5\n",
      "k1 = 0.1\n",
      "k2 = 2\n",
      "k3 = 1\n",
      "kout = 0.2\n",
      "\n",
      "init: (A = 0, B = 0, C = 0)\n",
      "\"\"\"\n",
      "\n",
      "m = read_model(model_description)"
     ],
     "language": "python",
     "metadata": {},
     "outputs": []
    },
    {
     "cell_type": "code",
     "collapsed": false,
     "input": [
      "print m"
     ],
     "language": "python",
     "metadata": {},
     "outputs": []
    },
    {
     "cell_type": "heading",
     "level": 3,
     "metadata": {},
     "source": [
      "2.1 - Reactions"
     ]
    },
    {
     "cell_type": "code",
     "collapsed": false,
     "input": [
      "for v in m.reactions:\n",
      "    print (v)"
     ],
     "language": "python",
     "metadata": {},
     "outputs": []
    },
    {
     "cell_type": "code",
     "collapsed": false,
     "input": [
      "print ([v.name for v in m.reactions])\n",
      "print ([v() for v in m.reactions])\n",
      "print ([v.stoichiometry_string for v in m.reactions])\n",
      "print ([v.reagents for v in m.reactions])\n",
      "print ([v.products for v in m.reactions])\n"
     ],
     "language": "python",
     "metadata": {},
     "outputs": []
    },
    {
     "cell_type": "code",
     "collapsed": false,
     "input": [
      "r1 = m.reactions.r1\n",
      "print (r1.name)\n",
      "print (r1.reagents)\n",
      "print (r1.products)\n",
      "print (r1.stoichiometry_string)\n",
      "print (r1.stoichiometry)\n",
      "print (r1())"
     ],
     "language": "python",
     "metadata": {},
     "outputs": []
    },
    {
     "cell_type": "code",
     "collapsed": false,
     "input": [
      "print m.varnames\n",
      "for p in m.parameters:\n",
      "    print p.name, p"
     ],
     "language": "python",
     "metadata": {},
     "outputs": []
    },
    {
     "cell_type": "heading",
     "level": 3,
     "metadata": {},
     "source": [
      "2.2 - Transformations"
     ]
    },
    {
     "cell_type": "code",
     "collapsed": false,
     "input": [
      "model_description = \"\"\"\n",
      "title An open two-reaction chemical system\n",
      "\n",
      "inflow: -> A, rate = kin\n",
      "r1: A -> B, rate = k1 * A\n",
      "r2: B -> C, rate = k2 * B - k3 * C\n",
      "outflow: C ->, rate = kout * C\n",
      "\n",
      "kin = 0.5\n",
      "k1 = 0.1\n",
      "k2 = 2\n",
      "k3 = 1\n",
      "kout = 0.2\n",
      "\n",
      "init: (A = 0, B = 0, C = 0)\n",
      "\n",
      "~ total = A + B + C\n",
      "\"\"\"\n",
      "\n",
      "m = read_model(model_description)"
     ],
     "language": "python",
     "metadata": {},
     "outputs": []
    },
    {
     "cell_type": "code",
     "collapsed": false,
     "input": [
      "print m"
     ],
     "language": "python",
     "metadata": {},
     "outputs": []
    },
    {
     "cell_type": "code",
     "collapsed": false,
     "input": [
      "m.solve(tf=50.0, outputs=[\"total\", 'A', 'B', 'C']).plot()"
     ],
     "language": "python",
     "metadata": {},
     "outputs": []
    },
    {
     "cell_type": "heading",
     "level": 3,
     "metadata": {},
     "source": [
      "2.3 - Local parameters in processes"
     ]
    },
    {
     "cell_type": "code",
     "collapsed": false,
     "input": [
      "model_description = \"\"\"\n",
      "title An open two-reaction chemical system\n",
      "\n",
      "inflow: -> A, rate = kin\n",
      "r1: A -> B, rate = k * A, k = 0.1\n",
      "r2: B -> C, rate = kf * B - kr * C, kf = 2, kr = 1\n",
      "outflow: C ->, rate = kout * C\n",
      "\n",
      "kin = 0.5\n",
      "kout = 0.2\n",
      "\n",
      "init: (A = 0, B = 0, C = 0)\n",
      "\n",
      "~ total = A + B + C\n",
      "\"\"\"\n",
      "\n",
      "m = read_model(model_description)"
     ],
     "language": "python",
     "metadata": {},
     "outputs": []
    },
    {
     "cell_type": "code",
     "collapsed": false,
     "input": [
      "m.solve(tf=50.0, outputs=[\"total\", 'A', 'B', 'C']).plot()"
     ],
     "language": "python",
     "metadata": {},
     "outputs": []
    },
    {
     "cell_type": "code",
     "collapsed": false,
     "input": [
      "print m"
     ],
     "language": "python",
     "metadata": {},
     "outputs": []
    },
    {
     "cell_type": "code",
     "collapsed": false,
     "input": [
      "for p in m.parameters:\n",
      "    print p.name, p"
     ],
     "language": "python",
     "metadata": {},
     "outputs": []
    },
    {
     "cell_type": "heading",
     "level": 3,
     "metadata": {},
     "source": [
      "2.4 - External variables"
     ]
    },
    {
     "cell_type": "code",
     "collapsed": false,
     "input": [
      "m = read_model(\"\"\"\n",
      "title An open two-reaction chemical system\n",
      "\n",
      "inflow: D -> A, rate = kin * D\n",
      "r1: A -> B, rate = k * A, k = 0.1\n",
      "r2: B -> C, rate = kf * B - kr * C, kf = 2, kr = 1\n",
      "outflow: C -> E, rate = kout * C\n",
      "\n",
      "D = 1\n",
      "kin = 0.5\n",
      "kout = 0.2\n",
      "E = 2\n",
      "\n",
      "init: (A = 0, B = 0, C = 0)\n",
      "\n",
      "~ total = A + B + C\n",
      "\"\"\")"
     ],
     "language": "python",
     "metadata": {},
     "outputs": []
    },
    {
     "cell_type": "code",
     "collapsed": false,
     "input": [
      "print m"
     ],
     "language": "python",
     "metadata": {},
     "outputs": []
    },
    {
     "cell_type": "code",
     "collapsed": false,
     "input": [
      "m.solve(tf=50.0, outputs=['A', 'B', 'C', 'D', 'E']).plot()"
     ],
     "language": "python",
     "metadata": {},
     "outputs": []
    },
    {
     "cell_type": "heading",
     "level": 3,
     "metadata": {},
     "source": [
      "2.5 - Declaration of outputs"
     ]
    },
    {
     "cell_type": "code",
     "collapsed": false,
     "input": [
      "m = read_model(\"\"\"\n",
      "title An open two-reaction chemical system\n",
      "\n",
      "inflow: D -> A, rate = kin * D\n",
      "r1: A -> B, rate = k * A, k = 0.1\n",
      "r2: B -> C, rate = kf * B - kr * C, kf = 2, kr = 1\n",
      "outflow: C -> E, rate = kout * C\n",
      "\n",
      "D = 1\n",
      "kin = 0.5\n",
      "kout = 0.2\n",
      "E = 2\n",
      "\n",
      "init: (A = 0, B = 0, C = 0)\n",
      "\n",
      "~ total = A + B + C\n",
      "\n",
      "!! C D E\n",
      "\"\"\")\n",
      "m.solve(tf=50.0).plot()"
     ],
     "language": "python",
     "metadata": {},
     "outputs": []
    },
    {
     "cell_type": "code",
     "collapsed": false,
     "input": [
      "m.solve(tf=50.0, outputs=['total', 'A']).plot()"
     ],
     "language": "python",
     "metadata": {},
     "outputs": []
    },
    {
     "cell_type": "code",
     "collapsed": false,
     "input": [
      "m.solve(tf=50.0, outputs=['->', 'D']).plot()"
     ],
     "language": "python",
     "metadata": {},
     "outputs": []
    },
    {
     "cell_type": "heading",
     "level": 3,
     "metadata": {},
     "source": [
      "2.6 - Explicit differential equations"
     ]
    },
    {
     "cell_type": "code",
     "collapsed": false,
     "input": [
      "m = read_model(\"\"\"\n",
      "title mass on a spring, frictionless\n",
      "\n",
      "# F = m * a = m * v' = - k * x, by Hooke's law\n",
      "\n",
      "v' = -(k * x) / m\n",
      "x' = v\n",
      "\n",
      "m = 0.5\n",
      "k = 1\n",
      "\n",
      "init: x = 1\n",
      "\"\"\")\n",
      "m.solve(tf=10.0).plot()"
     ],
     "language": "python",
     "metadata": {},
     "outputs": []
    },
    {
     "cell_type": "code",
     "collapsed": false,
     "input": [],
     "language": "python",
     "metadata": {},
     "outputs": []
    }
   ],
   "metadata": {}
  }
 ]
}