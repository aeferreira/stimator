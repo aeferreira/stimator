{
 "metadata": {
  "name": "",
  "signature": "sha256:3f43e0954d874740c85d39de90804f562aab961b28208e4e8778f543afbf9a13"
 },
 "nbformat": 3,
 "nbformat_minor": 0,
 "worksheets": [
  {
   "cells": [
    {
     "cell_type": "heading",
     "level": 2,
     "metadata": {},
     "source": [
      "2 - More on models and model description"
     ]
    },
    {
     "cell_type": "markdown",
     "metadata": {},
     "source": [
      "This chapter will focus on the \"mini-language\" used to describe models in S-timator and also on the model objects created by function `read_model()`"
     ]
    },
    {
     "cell_type": "code",
     "collapsed": false,
     "input": [
      "from stimator import read_model\n",
      "%matplotlib inline"
     ],
     "language": "python",
     "metadata": {},
     "outputs": [],
     "prompt_number": 1
    },
    {
     "cell_type": "code",
     "collapsed": false,
     "input": [],
     "language": "python",
     "metadata": {},
     "outputs": []
    }
   ],
   "metadata": {}
  }
 ]
}