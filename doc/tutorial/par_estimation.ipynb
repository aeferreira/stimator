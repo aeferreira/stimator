{
 "cells": [
  {
   "cell_type": "markdown",
   "metadata": {},
   "source": [
    "S-timator : demonstration of parameter estimation.\n",
    "------------------------------------------\n",
    "\n",
    "The **estimation.py** module combines ODE solving with the DE (differential evolution) genetic optimizer.\n"
   ]
  },
  {
   "cell_type": "code",
   "execution_count": null,
   "metadata": {
    "collapsed": true
   },
   "outputs": [],
   "source": [
    "%matplotlib inline"
   ]
  },
  {
   "cell_type": "code",
   "execution_count": null,
   "metadata": {
    "collapsed": true
   },
   "outputs": [],
   "source": [
    "from __future__ import print_function"
   ]
  },
  {
   "cell_type": "code",
   "execution_count": null,
   "metadata": {
    "collapsed": false
   },
   "outputs": [],
   "source": [
    "from stimator import read_model, read_tc"
   ]
  },
  {
   "cell_type": "markdown",
   "metadata": {},
   "source": [
    "###  Parameter estimation: three reaction linear pathway"
   ]
  },
  {
   "cell_type": "code",
   "execution_count": null,
   "metadata": {
    "collapsed": false
   },
   "outputs": [],
   "source": [
    "mdl = \"\"\"# Example file for S-timator\n",
    "title Example 2\n",
    "\n",
    "vin  : -> x1     , rate = k1\n",
    "v2   : x1 ->  x2 , rate = k2 * x1\n",
    "vout : x2 ->     , rate = k3 * x2\n",
    "\n",
    "init : x1=0, x2=0\n",
    "\n",
    "find k1 in [0, 2]\n",
    "find k2 in [0, 2]\n",
    "find k3 in [0, 2]\n",
    "\n",
    "!! x1 x2\n",
    "\n",
    "timecourse ../../examples/ex2data.txt\n",
    "popsize = 60     # population size in GA\n",
    "\"\"\"\n",
    "\n",
    "print('----------- Model ------------------------')\n",
    "print(mdl)\n",
    "\n",
    "m1 = read_model(mdl)\n",
    "\n",
    "print('----------- Time course -------------------')\n",
    "print(read_tc(m1))"
   ]
  },
  {
   "cell_type": "code",
   "execution_count": null,
   "metadata": {
    "collapsed": false
   },
   "outputs": [],
   "source": [
    "best = m1.estimate()\n",
    "\n",
    "print(best)\n",
    "best.plot()"
   ]
  },
  {
   "cell_type": "markdown",
   "metadata": {},
   "source": [
    "One can update the model parameters to the best fit values and obtain the same timecourse"
   ]
  },
  {
   "cell_type": "code",
   "execution_count": null,
   "metadata": {
    "collapsed": false
   },
   "outputs": [],
   "source": [
    "m2 = m1.copy()\n",
    "bestpars = [(n,v) for n,v,e in best.parameters]\n",
    "m2.update(bestpars)\n",
    "\n",
    "m2.solve(tf=20.0).plot()"
   ]
  },
  {
   "cell_type": "markdown",
   "metadata": {},
   "source": [
    "###  Parameter estimation: glyoxalase system"
   ]
  },
  {
   "cell_type": "markdown",
   "metadata": {},
   "source": [
    "An example with **two time courses**"
   ]
  },
  {
   "cell_type": "code",
   "execution_count": null,
   "metadata": {
    "collapsed": false
   },
   "outputs": [],
   "source": [
    "mdl = \"\"\"\n",
    "title Glyoxalase system in L. Infantum\n",
    "\n",
    "glx1 : HTA -> SDLTSH, V1*HTA/(Km1 + HTA)\n",
    "glx2 : SDLTSH ->,     V2*SDLTSH/(Km2 + SDLTSH)\n",
    "\n",
    "find V1  in [0.00001, 0.0001]\n",
    "find Km1 in [0.01, 1]\n",
    "find V2  in [0.00001, 0.0001]\n",
    "find Km2 in [0.01, 1]\n",
    "\n",
    "init : SDLTSH = 7.69231E-05, HTA = 0.1357\n",
    "\"\"\"\n",
    "m1 = read_model(mdl)\n",
    "print(mdl)\n",
    "\n",
    "best = m1.estimate(['TSH2a.txt', 'TSH2b.txt'], tc_dir='../../examples', names=['SDLTSH', 'HTA'], dump_generations=True)\n",
    "\n",
    "print(best)\n",
    "\n",
    "best.plot(fig_size=(14,6))\n",
    "best.plot_generations(pars=['V2', 'Km1'], fig_size=(14,6))"
   ]
  },
  {
   "cell_type": "markdown",
   "metadata": {},
   "source": [
    "-----------\n",
    "\n",
    "An example with an **unknown initial value**"
   ]
  },
  {
   "cell_type": "code",
   "execution_count": null,
   "metadata": {
    "collapsed": false
   },
   "outputs": [],
   "source": [
    "m2 = m1.copy()\n",
    "\n",
    "# Assume init.HTA is uncertain\n",
    "m2.init.HTA.set_bounds((0.05,0.25))\n",
    "\n",
    "# do not estimate Km1 and Km2, just to help the analysis\n",
    "m2.parameters.Km1.set_bounds(None)\n",
    "m2.parameters.Km2.set_bounds(None)\n",
    "m2.parameters.Km1 = 0.252531\n",
    "m2.parameters.Km2 = 0.0980973\n",
    "\n",
    "\n",
    "# VERY IMPORTANT:\n",
    "# only one time course can be used: \n",
    "# cannot fit one initial value using several timecourses!\n",
    "\n",
    "best = m2.estimate(['TSH2a.txt'], names=['SDLTSH', 'HTA'], tc_dir='../../examples', opt_settings=dict(pop_size=60))\n",
    "\n",
    "print(best)\n",
    "best.plot()"
   ]
  },
  {
   "cell_type": "code",
   "execution_count": null,
   "metadata": {
    "collapsed": false
   },
   "outputs": [],
   "source": []
  }
 ],
 "metadata": {
  "kernelspec": {
   "display_name": "Python 2",
   "language": "python",
   "name": "python2"
  },
  "language_info": {
   "codemirror_mode": {
    "name": "ipython",
    "version": 2
   },
   "file_extension": ".py",
   "mimetype": "text/x-python",
   "name": "python",
   "nbconvert_exporter": "python",
   "pygments_lexer": "ipython2",
   "version": "2.7.11"
  }
 },
 "nbformat": 4,
 "nbformat_minor": 0
}
