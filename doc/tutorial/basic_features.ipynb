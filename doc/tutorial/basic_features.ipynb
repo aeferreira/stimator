{
 "metadata": {
  "name": "",
  "signature": "sha256:e9525c53d71bfde7adbe8471dd08bd2a6d91f20539058c7968a39287dce67e00"
 },
 "nbformat": 3,
 "nbformat_minor": 0,
 "worksheets": [
  {
   "cells": [
    {
     "cell_type": "heading",
     "level": 2,
     "metadata": {},
     "source": [
      "1 - Basics"
     ]
    },
    {
     "cell_type": "heading",
     "level": 3,
     "metadata": {},
     "source": [
      "1.1 - Models"
     ]
    },
    {
     "cell_type": "markdown",
     "metadata": {},
     "source": [
      "**Kinetic models** are at the heart of S-timator. These models are conceptual descriptions of real systems that are characterized by stating the rates of change of entities.\n",
      "\n",
      "Generically, a kinetic model is a set of *processes* that produce or consume several *variables*. Variables are required to be associated with a value of *amount* or *concentration*.\n",
      "\n",
      "Examples of **processes**, from various scientific fields, are:\n",
      "\n",
      "- a chemical reaction\n",
      "- the flow of charge in a node of an electrical network\n",
      "- predation in an ecological system\n",
      "- the inflow of potassium into the axon of a neuron\n",
      "\n",
      "Processes are related to change, transport or transformation.\n",
      "\n",
      "Examples of **variables** are:\n",
      "\n",
      "- the concentrations of a chemical species\n",
      "- the number of individuals in the population of prey\n",
      "- the charge of a capacitor\n",
      "- the ammount of mRNA transcribed from a gene.\n",
      "\n",
      "**A key requirement in the formulation of a kinetic model is that the rate the processes is known or can be assigned in advance**. These rates usually depend on the concentrations of variables and, in turn, affect the concentrations of the variables that are \"connected\" by them.\n",
      "\n",
      "But modelling (the act of formulating a model) is **not** about the study of the kinetics of the individual processes.\n",
      "\n",
      "Instead, the primary objective is to predict or make inferences about the **dynamics of the system as a whole**, in particular to predict the change in the concentrations of the variables considered in the model."
     ]
    },
    {
     "cell_type": "markdown",
     "metadata": {},
     "source": [
      "----------\n",
      "\n",
      "To keep it simple, let's start by looking at the following system of two chemical reactions:\n",
      "\n",
      "![Example: a two-reaction chemical system](2chem.png)\n",
      "\n",
      "This *reaction scheme* indicates that a chemical species A is transformed into B by reaction 1 and, in turn, B is transformed into C by reaction 2. The arrows mean that reaction 1 is *almost irreversible*, whereas reaction 2 is *reversible*."
     ]
    },
    {
     "cell_type": "markdown",
     "metadata": {},
     "source": [
      "If we consider that the **reactions are *processes*** and the **concentrations of the chemical species are the *variables***, we are starting to formulate a kinetic model about this system."
     ]
    },
    {
     "cell_type": "markdown",
     "metadata": {},
     "source": [
      "As stated before, a requirement is that the we must indicate the **rates** of the two reactions.\n",
      "\n",
      "In simple chemical reactions, if the temperature is approximately constant, it is usually assumed that the rates of the individual steps of the reactions have what is called *mass-action kinetics*. In this example, the rates of the reactions would be:\n",
      " \n",
      "$$ v_1 = k_1 \\cdot A, \\qquad v_2 = k_2 \\cdot B - k_3 \\cdot C $$\n",
      "\n",
      "Here, $v_1$ and $v_2$ represent the rates of the reactions 1 and 2, respectively, $A$, $B$ and $C$ represent the concentrations of the chemical species and $k_1$, $k_2$ and $k_3$ are constants appearing in the mathematical expressions of the rates. These constants are called **parameters** of the model.\n",
      "\n",
      "The values of the parameters must also be indicated in a kinetic model:\n",
      "\n",
      "$$ k_1 = 0.1, \\qquad k_2 = 2, \\qquad  k_3 = 1 $$"
     ]
    },
    {
     "cell_type": "markdown",
     "metadata": {},
     "source": [
      "At the bare minimum, a kinetic model is built by stating:\n",
      "\n",
      "- how the **variables** are connected by the **processes**\n",
      "- the **rates** of the processes (how do they depend on the variables)\n",
      "- the values of the **parameters** that appear in the mathematical expression of the rates."
     ]
    },
    {
     "cell_type": "heading",
     "level": 3,
     "metadata": {},
     "source": [
      "1.2 - Describing models in S-timator"
     ]
    },
    {
     "cell_type": "markdown",
     "metadata": {},
     "source": [
      "How can we use S-timator to analyze this simple two-reaction example?\n",
      "\n",
      "We must start by importing function `read_model()` from the S-timator package.\n",
      "\n",
      "As we will see in a moment, this is one of the most fundamental functions of the package."
     ]
    },
    {
     "cell_type": "code",
     "collapsed": false,
     "input": [
      "from stimator import read_model\n",
      "%matplotlib inline"
     ],
     "language": "python",
     "metadata": {},
     "outputs": []
    },
    {
     "cell_type": "markdown",
     "metadata": {},
     "source": [
      "In S-timator, models are described inside a *Python* `string`:"
     ]
    },
    {
     "cell_type": "code",
     "collapsed": false,
     "input": [
      "model_description = \"\"\"\n",
      "\n",
      "title A two-reaction chemical system\n",
      "\n",
      "r1: A -> B, rate = k1 * A\n",
      "r2: B -> C, rate = k2 * B - k3 * C\n",
      "\n",
      "k1 = 0.1\n",
      "k2 = 2\n",
      "k3 = 1\n",
      "\n",
      "init: (A = 1)\n",
      "\n",
      "\"\"\""
     ],
     "language": "python",
     "metadata": {},
     "outputs": []
    },
    {
     "cell_type": "markdown",
     "metadata": {},
     "source": [
      "This (multi-line) *Python* `string` contains a set of declarations about the model that are quite straightforward to learn and use.\n",
      "\n",
      "Let us examine them:\n",
      "\n",
      "- The **title** is a line is that begins with the word `title` and is supposed to contain a small description of the model.\n",
      "- The **processes** are lines that describe the processes by indicating the \"stoichiometry\" of the the processes (that is, how they connect the variables of the model) and the rates of those processes. In this example, consider the line\n",
      "```\n",
      "r1: A -> B, rate = k1 * A\n",
      "```\n",
      "The format of these lines is: **the name of the process** (`r1`), followed by a **collon**, followed by the **\"stoichiometry\"** of the process (\"`A -> B`\") followed by a **comma** and a statement of the **rate** (\"`rate = k1 * A`\"). So, this line says that reaction `r1` transforms `A` into `B` with rate  `k1 *A`.\n",
      "- The **parameters** are lines that indicate the values of the parameters of the model. The format is, simply, the **name** of the parameter, followed by an equal sign, followed by the **value** of the parameter.\n",
      "- The **initial state** is a line that starts with `init:`, followed by a list of values for the variables of the model. These values are supposed to prescribe a state of the model that can serve as an initial (multi-dimensional) starting point from which the dynamics of the system evolves. More about this ahead. In this example, we are setting a value of 1 for variable `A`. The other variables, `B` and `C` will be zero, the default.\n"
     ]
    },
    {
     "cell_type": "markdown",
     "metadata": {},
     "source": [
      "After writting the `string` that describes the model, this `string` must be transformed into a special *Python* object by using function `read_model()`.\n",
      "\n",
      "The result of `read_model()` is a **`Model`** object, one of the fundamental data structures in S-timator. `Model` objects expose a lot of functionality to asssist the computational study of kinetic models."
     ]
    },
    {
     "cell_type": "code",
     "collapsed": false,
     "input": [
      "m = read_model(model_description)"
     ],
     "language": "python",
     "metadata": {},
     "outputs": []
    },
    {
     "cell_type": "markdown",
     "metadata": {},
     "source": [
      "We can `print` a `Model` object, generating a small report of the components of the model."
     ]
    },
    {
     "cell_type": "code",
     "collapsed": false,
     "input": [
      "print m"
     ],
     "language": "python",
     "metadata": {},
     "outputs": []
    },
    {
     "cell_type": "markdown",
     "metadata": {},
     "source": [
      "Just a few notes:\n",
      "\n",
      "- Variables are not declared: they are infered from the \"stoichiometry\" of the processes.\n",
      "- Processes must be given a name. Many things that you can do with a `Model` depend on that. In this example, the two reactions were called \"`r1`\" and \"`r2`\". Names must begin with a letter and can not have spaces. (we could **not** have given the names \"1\" and \"2\" to the two reactions).\n",
      "- The \"`rate =`\" part in the declarations of the processes can be dropped: we could just have written \"`r1: A -> B, k1 * A`\" for  reaction `r1`.\n"
     ]
    },
    {
     "cell_type": "heading",
     "level": 3,
     "metadata": {},
     "source": [
      "1.3. - Solving and plotting"
     ]
    },
    {
     "cell_type": "markdown",
     "metadata": {},
     "source": [
      "One of the most basic procedures that one can do with a model is to \"solve\" it and then plot the results.\n",
      "\n",
      "Two functions are involved:\n",
      "\n",
      "- `solve()`\n",
      "- `plot()`"
     ]
    },
    {
     "cell_type": "code",
     "collapsed": false,
     "input": [
      "m.solve(tf=20.0).plot()"
     ],
     "language": "python",
     "metadata": {},
     "outputs": []
    },
    {
     "cell_type": "markdown",
     "metadata": {},
     "source": [
      "Where did this graph came from?\n",
      "\n",
      "S-timator took the initial state of your model, as defined in `init`, and generated an estimate of the values of the concentrations of the variables throughout time. This is called a **time course** or a **time series**.\n",
      "\n",
      "Function `plot()` just produces a graph of those values, where the **x-axis represents time**.\n",
      "\n",
      "The two functions were *chained* together: the result of `solve()` can call the function `plot()` just by using the dot."
     ]
    },
    {
     "cell_type": "markdown",
     "metadata": {},
     "source": [
      "#### Why is it called `solve()`?\n",
      "\n",
      "This is because the underlying mathematical expression of the model is a **system of ordinary differential equations (SODE)**. \n",
      "\n",
      "For our two-reaction example, this system is\n",
      "\n",
      "$$ \\begin{array}{ccl} \\frac{d A}{dt} & = & - k_1 \\cdot A \\\\\n",
      "\\frac{d B}{dt} & = & k_1 \\cdot A - k_2 \\cdot B + k_3 \\cdot C \\\\\n",
      "\\frac{d C}{dt} & = & k_2 \\cdot B - k_3 \\cdot C \\end{array} $$\n",
      "\n",
      "Computing the time course of the concentrations, starting from the initial state, is done by solving this system of equations numerically, that is, computing $A(t)$, $B(t)$ and $C(t)$ as functions of time, from the knowledge of their derivatives. Hence the name `solve()`.\n",
      "\n",
      "The result of function `solve()` is called a *solution* of the SODE."
     ]
    },
    {
     "cell_type": "markdown",
     "metadata": {},
     "source": [
      "The argument `tf` in function `solve()` indicates that the solution should be computed up to the value of `tf`.\n",
      "\n",
      "Let's change this value"
     ]
    },
    {
     "cell_type": "code",
     "collapsed": false,
     "input": [
      "s = m.solve(tf=100.0)\n",
      "s.plot()"
     ],
     "language": "python",
     "metadata": {},
     "outputs": []
    },
    {
     "cell_type": "markdown",
     "metadata": {},
     "source": [
      "Here the two functions, `solve()` and `plot()` were separated. The result of `solve()` (a time course) was assigned to the variable _s_ and then `s.plot()` was called.\n",
      "\n",
      "Looking at the plot, we can see that, given enough time, species $A$ is completely consumed and the total mass (1.0) is distributed among $B$ and $C$, which settle into a chemical equilibrium."
     ]
    },
    {
     "cell_type": "markdown",
     "metadata": {},
     "source": [
      "We can obtain the final values of the time course, using attribute `last` of the solution object:"
     ]
    },
    {
     "cell_type": "code",
     "collapsed": false,
     "input": [
      "s.last"
     ],
     "language": "python",
     "metadata": {},
     "outputs": []
    },
    {
     "cell_type": "markdown",
     "metadata": {},
     "source": [
      "`last` is returned as a *Python dictionary*."
     ]
    },
    {
     "cell_type": "code",
     "collapsed": false,
     "input": [
      "model_description = \"\"\"\n",
      "title An open two-reaction chemical system\n",
      "\n",
      "influx: -> A, rate = kin\n",
      "r1: A -> B, rate = k1 * A\n",
      "r2: B -> C, rate = k2 * B - k3 * C\n",
      "outflux: C ->, rate = kout * C\n",
      "\n",
      "kin = 0.5\n",
      "k1 = 0.1\n",
      "k2 = 2\n",
      "k3 = 1\n",
      "kout = 0.2\n",
      "\n",
      "init: (A = 0, B = 0, C = 0)\n",
      "\"\"\"\n",
      "\n",
      "m = read_model(model_description)"
     ],
     "language": "python",
     "metadata": {},
     "outputs": []
    },
    {
     "cell_type": "code",
     "collapsed": false,
     "input": [
      "print m.solve(tf=100.0).last\n",
      "m.solve(tf=100.0).plot()"
     ],
     "language": "python",
     "metadata": {},
     "outputs": []
    },
    {
     "cell_type": "code",
     "collapsed": false,
     "input": [],
     "language": "python",
     "metadata": {},
     "outputs": []
    }
   ],
   "metadata": {}
  }
 ]
}