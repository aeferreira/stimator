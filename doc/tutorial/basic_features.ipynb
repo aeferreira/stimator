{
 "metadata": {
  "name": "",
  "signature": "sha256:9f3e005c7b1a48b8235fda73f7028bbe5fdeedf7215e03af780f69203dfbd0d3"
 },
 "nbformat": 3,
 "nbformat_minor": 0,
 "worksheets": [
  {
   "cells": [
    {
     "cell_type": "code",
     "collapsed": false,
     "input": [
      "%matplotlib inline"
     ],
     "language": "python",
     "metadata": {},
     "outputs": []
    },
    {
     "cell_type": "heading",
     "level": 2,
     "metadata": {},
     "source": [
      "1 - Basic features"
     ]
    },
    {
     "cell_type": "heading",
     "level": 3,
     "metadata": {},
     "source": [
      "1.1 - Models"
     ]
    },
    {
     "cell_type": "markdown",
     "metadata": {},
     "source": [
      "**Kinetic models** are at the heart of S-timator.\n",
      "\n",
      "A kinetic model is a set of *processes* that interconnect several *variables*. Variables are associated with a value of *amount* or *concentration*.\n",
      "\n",
      "Depending on the field, **processes** can be a chemical reaction, the flow of charge in a node of an electrical network, predation in an ecological system, the inflow of potassium into neuron, etc; anything related to transport or transformation. Examples of **variables** are the concentrations of chemical species, the number of individuals in the population of prey, the charge of a capacitor, the ammount of mRNA transcribed from a gene, etc.\n",
      "\n",
      "**A key demand in the formulation of a kinetic model is that the rate of any processes is known or can be assigned in advance**. These rates, usually depend on the concentrations of variables and, in turn, the concentrations of the variables that are connected by a certain process are influenced by the rate of that process.\n",
      "\n",
      "But modelling is not about the study of the kinetic of the individual processes. Instead, the primary objective is to predict or make inferences about the **dynamics of the system as a whole**, in particular to predict the change in the concentrations of the variables considered in the model."
     ]
    },
    {
     "cell_type": "markdown",
     "metadata": {},
     "source": [
      "As a very simple example, we will start by looking at the following system of two chemical reactions:\n",
      "\n",
      "![A two reaction chemical system](2chem.png)\n",
      "\n",
      "A chemical species A is transformed into B by reaction 1 and, in turn, B is transformed into C by reaction 2. Reaction 1 is considered *almost irreversible*, whereas reaction 2 is considered reversible."
     ]
    },
    {
     "cell_type": "markdown",
     "metadata": {},
     "source": [
      "As stated before, to make a kinetic model of this system we must indicate the rates of the two reactions.  \n",
      "Simple chemical reactions ususally have reaction rates that are *mass-action kinetics*:\n",
      " \n",
      "$$ v_1 = k_1 \\cdot A, \\qquad v_2 = k_2 \\cdot B - k_3 \\cdot C $$\n",
      "\n",
      "Furthermore, the values of the parameters $k_1$, $k_2$ and $k_3$ must also be indicated:\n",
      "\n",
      "$$ k_1 = 0.1, \\qquad k_2 = 2, \\qquad  k_3 = 1 $$"
     ]
    },
    {
     "cell_type": "markdown",
     "metadata": {},
     "source": [
      "How can we use S-timator to describe this chemical system?\n",
      "\n",
      "We must start by importing S-timator:"
     ]
    },
    {
     "cell_type": "code",
     "collapsed": false,
     "input": [
      "import stimator"
     ],
     "language": "python",
     "metadata": {},
     "outputs": []
    },
    {
     "cell_type": "markdown",
     "metadata": {},
     "source": [
      "Then, we describe a kinetic model of inside a *Python* `string`:"
     ]
    },
    {
     "cell_type": "code",
     "collapsed": false,
     "input": [
      "model_description = \"\"\"\n",
      "title A two-reaction chemical system\n",
      "\n",
      "v1: A -> B, rate = k1 * A\n",
      "v2: B -> C, rate = k2 * B - k3 * C\n",
      "\n",
      "k1 = 0.1\n",
      "k2 = 2\n",
      "k3 = 1\n",
      "\n",
      "init: (A = 1)\n",
      "\"\"\"\n",
      "\n",
      "m = stimator.read_model(model_description)\n",
      "\n",
      "print m"
     ],
     "language": "python",
     "metadata": {},
     "outputs": []
    },
    {
     "cell_type": "code",
     "collapsed": false,
     "input": [
      "m.solve(tf=20.0).plot()"
     ],
     "language": "python",
     "metadata": {},
     "outputs": []
    },
    {
     "cell_type": "code",
     "collapsed": false,
     "input": [
      "m.solve(tf=100.0).plot()"
     ],
     "language": "python",
     "metadata": {},
     "outputs": []
    },
    {
     "cell_type": "code",
     "collapsed": false,
     "input": [
      "m.solve(tf=100).last"
     ],
     "language": "python",
     "metadata": {},
     "outputs": []
    },
    {
     "cell_type": "code",
     "collapsed": false,
     "input": [
      "model_description = \"\"\"\n",
      "title An open two-reaction chemical system\n",
      "\n",
      "vin: -> A, rate = kin\n",
      "v1: A -> B, rate = k1 * A\n",
      "v2: B -> C, rate = k2 * B - k3 * C\n",
      "vout: C ->, rate = kout * C\n",
      "\n",
      "kin = 0.5\n",
      "k1 = 0.1\n",
      "k2 = 2\n",
      "k3 = 1\n",
      "kout = 0.2\n",
      "\n",
      "init: (A = 0, B = 0, C = 0)\n",
      "\"\"\"\n",
      "\n",
      "m = stimator.read_model(model_description)"
     ],
     "language": "python",
     "metadata": {},
     "outputs": []
    },
    {
     "cell_type": "code",
     "collapsed": false,
     "input": [
      "print m.solve(tf=100.0).last\n",
      "m.solve(tf=100.0).plot()"
     ],
     "language": "python",
     "metadata": {},
     "outputs": []
    },
    {
     "cell_type": "code",
     "collapsed": false,
     "input": [],
     "language": "python",
     "metadata": {},
     "outputs": []
    }
   ],
   "metadata": {}
  }
 ]
}