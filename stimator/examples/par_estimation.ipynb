{
 "metadata": {
  "name": ""
 },
 "nbformat": 3,
 "nbformat_minor": 0,
 "worksheets": [
  {
   "cells": [
    {
     "cell_type": "markdown",
     "metadata": {},
     "source": [
      "S-timator : demonstration of deode module.\n",
      "------------------------------------------\n",
      "\n",
      "The **deode.py** module combines ODE solving with DE (differential evolution) genetic optimizer.\n"
     ]
    },
    {
     "cell_type": "code",
     "collapsed": false,
     "input": [
      "%matplotlib inline\n",
      "\n",
      "from stimator import *\n",
      "from stimator.deode import DeODESolver\n",
      "import pylab as pl\n",
      "\n",
      "mdl = \"\"\"\n",
      "title Glyoxalase system in L. Infantum\n",
      "\n",
      "glx1 : HTA -> SDLTSH, V1*HTA/(Km1 + HTA)\n",
      "glx2 : SDLTSH ->,     V2*SDLTSH/(Km2 + SDLTSH)\n",
      "\n",
      "find V1  in [0.00001, 0.0001]\n",
      "find Km1 in [0.01, 1]\n",
      "find V2  in [0.00001, 0.0001]\n",
      "find Km2 in [0.01, 1]\n",
      "init = state(SDLTSH = 7.69231E-05, HTA = 0.1357)\n",
      "\"\"\"\n",
      "m1 = read_model(mdl)\n",
      "\n",
      "print '================================================='\n",
      "print 'Parameter estimation: glyoxalase system example'\n",
      "print mdl\n",
      "print '-------- an example with two time courses --------------'\n",
      "\n",
      "optSettings={'genomesize':80, 'generations':200}\n",
      "timecourses = readTCs(['TSH2a.txt', 'TSH2b.txt'], names = ['SDLTSH', 'HTA'], verbose=True)\n",
      "\n",
      "solver = DeODESolver(m1,optSettings, timecourses)\n",
      "solver.Solve()\n",
      "\n",
      "print solver.reportResults()\n",
      "\n",
      "fig1 = pl.figure()\n",
      "solver.draw(fig1)\n",
      "## #save predicted timecourses to files\n",
      "## redsols = solver.optimum.optimum_tcs\n",
      "## redsols.saveTimeCoursesTo(['TSH2a_pred.txt', 'TSH2b_pred.txt'], verbose=True)\n",
      "\n",
      "pl.show()\n",
      "\n",
      "print '-------- an example with unknown initial values --------------'\n",
      "\n",
      "m2 = m1.clone()\n",
      "\n",
      "# Now, assume init.HTA is uncertain\n",
      "m2.init.HTA.uncertainty(0.05,0.25)\n",
      "# do not estimate Km1 and Km2 to help the analysis\n",
      "m2.Km1.uncertainty(None)\n",
      "m2.Km2.uncertainty(None)\n",
      "m2.Km1 = 0.252531\n",
      "m2.Km2 = 0.0980973\n",
      "\n",
      "optSettings={'genomesize':60, 'generations':200}\n",
      "\n",
      "## VERY IMPORTANT:\n",
      "## only one time course can be used: \n",
      "## cannot fit one uncertain initial value to several timecourses!!!\n",
      "timecourses = readTCs(['TSH2a.txt'], '.', names = ['SDLTSH', 'HTA'], verbose=True)\n",
      "\n",
      "solver = DeODESolver(m2,optSettings, timecourses)\n",
      "solver.Solve()\n",
      "\n",
      "print solver.reportResults()\n",
      "\n",
      "fig2 = pl.figure()\n",
      "solver.draw(fig2)"
     ],
     "language": "python",
     "metadata": {},
     "outputs": [
      {
       "output_type": "stream",
       "stream": "stdout",
       "text": [
        "=================================================\n",
        "Parameter estimation: glyoxalase system example\n",
        "\n",
        "title Glyoxalase system in L. Infantum\n",
        "\n",
        "glx1 : HTA -> SDLTSH, V1*HTA/(Km1 + HTA)\n",
        "glx2 : SDLTSH ->,     V2*SDLTSH/(Km2 + SDLTSH)\n",
        "\n",
        "find V1  in [0.00001, 0.0001]\n",
        "find Km1 in [0.01, 1]\n",
        "find V2  in [0.00001, 0.0001]\n",
        "find Km2 in [0.01, 1]\n",
        "init = state(SDLTSH = 7.69231E-05, HTA = 0.1357)\n",
        "\n",
        "-------- an example with two time courses --------------\n",
        "-------------------------------------------------------\n",
        "244 time points for 1 variables read from file C:\\Users\\tonho\\Desktop\\stgit\\stimator\\examples\\TSH2a.txt\n",
        "347 time points for 2 variables read from file C:\\Users\\tonho\\Desktop\\stgit\\stimator\\examples\\TSH2b.txt\n",
        "\n",
        "Solving Glyoxalase system in L. Infantum..."
       ]
      },
      {
       "output_type": "stream",
       "stream": "stdout",
       "text": [
        "\n",
        "0   : 0.001590"
       ]
      },
      {
       "output_type": "stream",
       "stream": "stdout",
       "text": [
        "\n",
        "1   : 0.001590"
       ]
      },
      {
       "output_type": "stream",
       "stream": "stdout",
       "text": [
        "\n",
        "2   : 0.000133"
       ]
      },
      {
       "output_type": "stream",
       "stream": "stdout",
       "text": [
        "\n",
        "3   : 0.000133"
       ]
      },
      {
       "output_type": "stream",
       "stream": "stdout",
       "text": [
        "\n",
        "4   : 0.000133"
       ]
      },
      {
       "output_type": "stream",
       "stream": "stdout",
       "text": [
        "\n",
        "5   : 0.000133"
       ]
      },
      {
       "output_type": "stream",
       "stream": "stdout",
       "text": [
        "\n",
        "6   : 0.000133"
       ]
      },
      {
       "output_type": "stream",
       "stream": "stdout",
       "text": [
        "\n",
        "7   : 0.000133"
       ]
      },
      {
       "output_type": "stream",
       "stream": "stdout",
       "text": [
        "\n",
        "8   : 0.000133"
       ]
      },
      {
       "output_type": "stream",
       "stream": "stdout",
       "text": [
        "\n",
        "9   : 0.000133"
       ]
      },
      {
       "output_type": "stream",
       "stream": "stdout",
       "text": [
        "\n",
        "10  : 0.000133"
       ]
      },
      {
       "output_type": "stream",
       "stream": "stdout",
       "text": [
        "\n",
        "11  : 0.000133"
       ]
      },
      {
       "output_type": "stream",
       "stream": "stdout",
       "text": [
        "\n",
        "12  : 0.000133"
       ]
      },
      {
       "output_type": "stream",
       "stream": "stdout",
       "text": [
        "\n",
        "13  : 0.000133"
       ]
      },
      {
       "output_type": "stream",
       "stream": "stdout",
       "text": [
        "\n",
        "14  : 0.000133"
       ]
      },
      {
       "output_type": "stream",
       "stream": "stdout",
       "text": [
        "\n",
        "15  : 0.000133"
       ]
      },
      {
       "output_type": "stream",
       "stream": "stdout",
       "text": [
        "\n",
        "16  : 0.000133"
       ]
      },
      {
       "output_type": "stream",
       "stream": "stdout",
       "text": [
        "\n",
        "17  : 0.000133"
       ]
      },
      {
       "output_type": "stream",
       "stream": "stdout",
       "text": [
        "\n",
        "18  : 0.000133"
       ]
      },
      {
       "output_type": "stream",
       "stream": "stdout",
       "text": [
        "\n",
        "19  : 0.000133"
       ]
      },
      {
       "output_type": "stream",
       "stream": "stdout",
       "text": [
        "\n",
        "20  : 0.000133"
       ]
      },
      {
       "output_type": "stream",
       "stream": "stdout",
       "text": [
        "\n",
        "21  : 0.000133"
       ]
      },
      {
       "output_type": "stream",
       "stream": "stdout",
       "text": [
        "\n",
        "22  : 0.000133"
       ]
      },
      {
       "output_type": "stream",
       "stream": "stdout",
       "text": [
        "\n",
        "refining last solution ...\n",
        "\n",
        "DONE!\n",
        "Too many generations with no improvement in 23 generations.\n",
        "best energy = 0.000011\n",
        "best solution: [  2.57587430e-05   2.23315654e-05   9.80378174e-02   2.52514985e-01]\n",
        "Optimization took 6.466 s (00m 06.466s)"
       ]
      },
      {
       "output_type": "stream",
       "stream": "stdout",
       "text": [
        "\n",
        "\n",
        "--- PARAMETERS           -----------------------------\n",
        "V1\t 2.57587e-05 +- 2.76715e-07\n",
        "V2\t 2.23316e-05 +- 3.10525e-06\n",
        "Km2\t   0.0980378 +- 0.0197222\n",
        "Km1\t    0.252515 +- 0.00707576\n",
        "\n",
        "--- OPTIMIZATION         -----------------------------\n",
        "Final Score\t1.06654e-05\n",
        "generations\t23\n",
        "max generations\t200\n",
        "genome size\t80\n",
        "Exit by\tToo many generations with no improvement\n",
        "\n",
        "\n",
        "--- TIME COURSES         -----------------------------\n",
        "Name\t\tPoints\t\tScore\n",
        "TSH2a.txt\t244\t4.1791e-06\n",
        "TSH2b.txt\t347\t6.48635e-06\n",
        "\n",
        "\n"
       ]
      },
      {
       "metadata": {},
       "output_type": "display_data",
       "png": "[encoded data removed]",
       "text": [
        "<matplotlib.figure.Figure at 0xa9a19b0>"
       ]
      },
      {
       "output_type": "stream",
       "stream": "stdout",
       "text": [
        "-------- an example with unknown initial values --------------\n",
        "-------------------------------------------------------\n",
        "244 time points for 1 variables read from file C:\\Users\\tonho\\Desktop\\stgit\\stimator\\examples\\TSH2a.txt\n",
        "\n",
        "Solving Glyoxalase system in L. Infantum...\n",
        "0   : 0.000146"
       ]
      },
      {
       "output_type": "stream",
       "stream": "stdout",
       "text": [
        "\n",
        "1   : 0.000146"
       ]
      },
      {
       "output_type": "stream",
       "stream": "stdout",
       "text": [
        "\n",
        "2   : 0.000025"
       ]
      },
      {
       "output_type": "stream",
       "stream": "stdout",
       "text": [
        "\n",
        "3   : 0.000025"
       ]
      },
      {
       "output_type": "stream",
       "stream": "stdout",
       "text": [
        "\n",
        "4   : 0.000025"
       ]
      },
      {
       "output_type": "stream",
       "stream": "stdout",
       "text": [
        "\n",
        "5   : 0.000021"
       ]
      },
      {
       "output_type": "stream",
       "stream": "stdout",
       "text": [
        "\n",
        "6   : 0.000021"
       ]
      },
      {
       "output_type": "stream",
       "stream": "stdout",
       "text": [
        "\n",
        "7   : 0.000021"
       ]
      },
      {
       "output_type": "stream",
       "stream": "stdout",
       "text": [
        "\n",
        "8   : 0.000021"
       ]
      },
      {
       "output_type": "stream",
       "stream": "stdout",
       "text": [
        "\n",
        "9   : 0.000021"
       ]
      },
      {
       "output_type": "stream",
       "stream": "stdout",
       "text": [
        "\n",
        "10  : 0.000021"
       ]
      },
      {
       "output_type": "stream",
       "stream": "stdout",
       "text": [
        "\n",
        "11  : 0.000021"
       ]
      },
      {
       "output_type": "stream",
       "stream": "stdout",
       "text": [
        "\n",
        "12  : 0.000021"
       ]
      },
      {
       "output_type": "stream",
       "stream": "stdout",
       "text": [
        "\n",
        "13  : 0.000021"
       ]
      },
      {
       "output_type": "stream",
       "stream": "stdout",
       "text": [
        "\n",
        "14  : 0.000021"
       ]
      },
      {
       "output_type": "stream",
       "stream": "stdout",
       "text": [
        "\n",
        "15  : 0.000008"
       ]
      },
      {
       "output_type": "stream",
       "stream": "stdout",
       "text": [
        "\n",
        "16  : 0.000008"
       ]
      },
      {
       "output_type": "stream",
       "stream": "stdout",
       "text": [
        "\n",
        "17  : 0.000008"
       ]
      },
      {
       "output_type": "stream",
       "stream": "stdout",
       "text": [
        "\n",
        "18  : 0.000008"
       ]
      },
      {
       "output_type": "stream",
       "stream": "stdout",
       "text": [
        "\n",
        "19  : 0.000008"
       ]
      },
      {
       "output_type": "stream",
       "stream": "stdout",
       "text": [
        "\n",
        "20  : 0.000008"
       ]
      },
      {
       "output_type": "stream",
       "stream": "stdout",
       "text": [
        "\n",
        "21  : 0.000008"
       ]
      },
      {
       "output_type": "stream",
       "stream": "stdout",
       "text": [
        "\n",
        "22  : 0.000008"
       ]
      },
      {
       "output_type": "stream",
       "stream": "stdout",
       "text": [
        "\n",
        "23  : 0.000008"
       ]
      },
      {
       "output_type": "stream",
       "stream": "stdout",
       "text": [
        "\n",
        "24  : 0.000008"
       ]
      },
      {
       "output_type": "stream",
       "stream": "stdout",
       "text": [
        "\n",
        "25  : 0.000008"
       ]
      },
      {
       "output_type": "stream",
       "stream": "stdout",
       "text": [
        "\n",
        "26  : 0.000008"
       ]
      },
      {
       "output_type": "stream",
       "stream": "stdout",
       "text": [
        "\n",
        "27  : 0.000008"
       ]
      },
      {
       "output_type": "stream",
       "stream": "stdout",
       "text": [
        "\n",
        "28  : 0.000008"
       ]
      },
      {
       "output_type": "stream",
       "stream": "stdout",
       "text": [
        "\n",
        "29  : 0.000008"
       ]
      },
      {
       "output_type": "stream",
       "stream": "stdout",
       "text": [
        "\n",
        "30  : 0.000008"
       ]
      },
      {
       "output_type": "stream",
       "stream": "stdout",
       "text": [
        "\n",
        "31  : 0.000008"
       ]
      },
      {
       "output_type": "stream",
       "stream": "stdout",
       "text": [
        "\n",
        "32  : 0.000008"
       ]
      },
      {
       "output_type": "stream",
       "stream": "stdout",
       "text": [
        "\n",
        "33  : 0.000008"
       ]
      },
      {
       "output_type": "stream",
       "stream": "stdout",
       "text": [
        "\n",
        "34  : 0.000008"
       ]
      },
      {
       "output_type": "stream",
       "stream": "stdout",
       "text": [
        "\n",
        "35  : 0.000008"
       ]
      },
      {
       "output_type": "stream",
       "stream": "stdout",
       "text": [
        "\n",
        "refining last solution ...\n",
        "\n",
        "DONE!\n",
        "Too many generations with no improvement in 36 generations.\n",
        "best energy = 0.000003\n",
        "best solution: [  3.36574664e-05   1.87056447e-05   9.25226437e-02]\n",
        "Optimization took 6.505 s (00m 06.505s)"
       ]
      },
      {
       "output_type": "stream",
       "stream": "stdout",
       "text": [
        "\n",
        "\n",
        "--- PARAMETERS           -----------------------------\n",
        "V1\t 3.36575e-05 +- 1.02919e-05\n",
        "V2\t 1.87056e-05 +- 5.94082e-06\n",
        "init.HTA\t   0.0925226 +- 0.0400775\n",
        "\n",
        "--- OPTIMIZATION         -----------------------------\n",
        "Final Score\t3.11054e-06\n",
        "generations\t36\n",
        "max generations\t200\n",
        "genome size\t60\n",
        "Exit by\tToo many generations with no improvement\n",
        "\n",
        "\n",
        "--- TIME COURSES         -----------------------------\n",
        "Name\t\tPoints\t\tScore\n",
        "TSH2a.txt\t244\t3.11054e-06\n",
        "\n",
        "\n"
       ]
      },
      {
       "metadata": {},
       "output_type": "display_data",
       "png": "[encoded data removed]",
       "text": [
        "<matplotlib.figure.Figure at 0xac6a690>"
       ]
      }
     ],
     "prompt_number": 1
    },
    {
     "cell_type": "code",
     "collapsed": false,
     "input": [],
     "language": "python",
     "metadata": {},
     "outputs": [],
     "prompt_number": 1
    }
   ],
   "metadata": {}
  }
 ]
}