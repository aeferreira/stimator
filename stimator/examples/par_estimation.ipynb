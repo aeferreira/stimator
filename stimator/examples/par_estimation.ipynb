{
 "metadata": {
  "name": "",
  "signature": "sha256:c27b77d2fc2e6b2e27184159323b51a55cab338c759d2db063c1bc4b39be2a0f"
 },
 "nbformat": 3,
 "nbformat_minor": 0,
 "worksheets": [
  {
   "cells": [
    {
     "cell_type": "markdown",
     "metadata": {},
     "source": [
      "S-timator : demonstration of deode module.\n",
      "------------------------------------------\n",
      "\n",
      "The **deode.py** module combines ODE solving with DE (differential evolution) genetic optimizer.\n",
      "\n",
      "Its primary use is **parameter etimation**.\n",
      "\n",
      "Let's start by constructing a model with four unknown parameters.\n"
     ]
    },
    {
     "cell_type": "code",
     "collapsed": false,
     "input": [
      "%matplotlib inline\n",
      "\n",
      "from stimator import *\n",
      "from stimator.deode import DeODESolver\n",
      "import pylab as pl\n",
      "import matplotlib as mpl\n",
      "\n",
      "#To make sure we have always the same matplotlib settings\n",
      "#(the ones in comments are the ipython notebook settings)\n",
      "\n",
      "mpl.rcParams['figure.figsize']=(9.0,6.0)    #(6.0,4.0)\n",
      "mpl.rcParams['font.size']=12                #10 \n",
      "mpl.rcParams['savefig.dpi']=72              #72 \n",
      "mpl.rcParams['figure.subplot.bottom']=.1    #.125\n",
      "\n",
      "#------------------------------------------------------\n",
      "mdl = \"\"\"\n",
      "title Glyoxalase system in L. Infantum\n",
      "\n",
      "glx1 : HTA -> SDLTSH, V1*HTA/(Km1 + HTA)\n",
      "glx2 : SDLTSH ->,     V2*SDLTSH/(Km2 + SDLTSH)\n",
      "\n",
      "find V1  in [0.00001, 0.0001]\n",
      "find Km1 in [0.01, 1]\n",
      "find V2  in [0.00001, 0.0001]\n",
      "find Km2 in [0.01, 1]\n",
      "init = state(SDLTSH = 7.69231E-05, HTA = 0.1357)\n",
      "\"\"\"\n",
      "m1 = read_model(mdl)\n",
      "\n",
      "print '================================================='\n",
      "print 'Parameter estimation: glyoxalase system example'\n",
      "print mdl\n"
     ],
     "language": "python",
     "metadata": {},
     "outputs": []
    },
    {
     "cell_type": "markdown",
     "metadata": {},
     "source": [
      "Here is an example using **two** time courses."
     ]
    },
    {
     "cell_type": "code",
     "collapsed": false,
     "input": [
      "optSettings={'genomesize':80, 'generations':200}\n",
      "timecourses = readTCs(['TSH2a.txt', 'TSH2b.txt'], names = ['SDLTSH', 'HTA'], verbose=True)\n",
      "\n",
      "solver = DeODESolver(m1,optSettings, timecourses)\n",
      "solver.Solve()\n",
      "\n",
      "print solver.reportResults()\n",
      "\n",
      "fig1 = pl.figure()\n",
      "solver.draw(fig1)\n",
      "## #save predicted timecourses to files\n",
      "## redsols = solver.optimum.optimum_tcs\n",
      "## redsols.saveTimeCoursesTo(['TSH2a_pred.txt', 'TSH2b_pred.txt'], verbose=True)"
     ],
     "language": "python",
     "metadata": {},
     "outputs": []
    },
    {
     "cell_type": "markdown",
     "metadata": {},
     "source": [
      "Here is an example with an **unknown initial value**.\n",
      "\n",
      "IMPORTANT:  \n",
      "only **one time course** can be used!  \n",
      "cannot fit one initial value to several timecourses."
     ]
    },
    {
     "cell_type": "code",
     "collapsed": false,
     "input": [
      "m2 = m1.clone()\n",
      "\n",
      "# Now, assume init.HTA is uncertain\n",
      "m2.init.HTA.uncertainty(0.05,0.25)\n",
      "# do not estimate Km1 and Km2 to help the computation\n",
      "m2.Km1.uncertainty(None)\n",
      "m2.Km2.uncertainty(None)\n",
      "m2.Km1 = 0.252531\n",
      "m2.Km2 = 0.0980973\n",
      "\n",
      "optSettings={'genomesize':60, 'generations':200}\n",
      "\n",
      "timecourses = readTCs(['TSH2a.txt'], '.', names = ['SDLTSH', 'HTA'], verbose=True)\n",
      "\n",
      "solver = DeODESolver(m2,optSettings, timecourses)\n",
      "solver.Solve()\n",
      "\n",
      "print solver.reportResults()\n",
      "\n",
      "fig2 = pl.figure()\n",
      "solver.draw(fig2)"
     ],
     "language": "python",
     "metadata": {},
     "outputs": []
    }
   ],
   "metadata": {}
  }
 ]
}