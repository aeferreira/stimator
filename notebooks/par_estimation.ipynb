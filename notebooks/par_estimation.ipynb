{
 "cells": [
  {
   "cell_type": "code",
   "execution_count": null,
   "metadata": {},
   "outputs": [],
   "source": [
    "%matplotlib inline\n",
    "from matplotlib import pyplot as plt\n",
    "plt.style.use(['seaborn-whitegrid',\n",
    "              {'xaxis.labellocation': 'right',\n",
    "               'legend.frameon': True,\n",
    "               'legend.facecolor': 'white'}])"
   ]
  },
  {
   "cell_type": "markdown",
   "metadata": {},
   "source": [
    "S-timator : demonstration of parameter estimation.\n",
    "------------------------------------------\n",
    "\n",
    "The **estimation.py** module combines ODE solving with the DE (differential evolution) genetic optimizer.\n"
   ]
  },
  {
   "cell_type": "code",
   "execution_count": null,
   "metadata": {},
   "outputs": [],
   "source": [
    "from stimator import read_model, read_tc, Solution, get_examples_path"
   ]
  },
  {
   "cell_type": "markdown",
   "metadata": {},
   "source": [
    "###  Parameter estimation: three reaction linear pathway"
   ]
  },
  {
   "cell_type": "code",
   "execution_count": null,
   "metadata": {},
   "outputs": [],
   "source": [
    "mdl = \"\"\"# Example file for S-timator\n",
    "title Example 1\n",
    "\n",
    "vin  : -> x1     , rate = k1\n",
    "v2   : x1 ->  x2 , rate = k2 * x1\n",
    "vout : x2 ->     , rate = k3 * x2\n",
    "\n",
    "init : x1=0, x2=0\n",
    "\n",
    "find k1 in [0, 2]\n",
    "find k2 in [0, 2]\n",
    "find k3 in [0, 2]\n",
    "\n",
    "!! x1 x2\n",
    "\n",
    "popsize = 60     # population size in GA\n",
    "\"\"\"\n",
    "\n",
    "print('----------- Model ------------------------')\n",
    "print(mdl)\n",
    "\n",
    "m1 = read_model(mdl)\n",
    "\n",
    "print('----------- Time course -------------------')\n",
    "\n",
    "example_data = \"\"\"\n",
    "t   x1   x2\n",
    "0   0   0\n",
    "2   1.403812093   0.48351624\n",
    "4   1.528870297   1.483289613\n",
    "6   1.917963699   2.039584833\n",
    "8   2.028998372   2.826410056\n",
    "10   1.978326655   3.106415222\n",
    "12   2.143692636   3.060669986\n",
    "14   2.289572191   3.231815374\n",
    "16   2.019850835   3.310127564\n",
    "18   1.977904321   3.098886165\n",
    "20   2.126776717   3.463202683\n",
    "\"\"\"\n",
    "tc = Solution.read_str(example_data)\n",
    "print(tc)"
   ]
  },
  {
   "cell_type": "code",
   "execution_count": null,
   "metadata": {},
   "outputs": [],
   "source": [
    "best = m1.estimate(timecourses=tc)\n",
    "\n",
    "print(best)"
   ]
  },
  {
   "cell_type": "markdown",
   "metadata": {},
   "source": [
    "One can update the model parameters to the best fit values and obtain the same timecourse"
   ]
  },
  {
   "cell_type": "code",
   "execution_count": null,
   "metadata": {},
   "outputs": [],
   "source": [
    "m2 = m1.copy()\n",
    "bestpars = [(n,v) for n,v,e in best.parameters]\n",
    "m2.setp(bestpars)\n",
    "dict(bestpars)"
   ]
  },
  {
   "cell_type": "code",
   "execution_count": null,
   "metadata": {},
   "outputs": [],
   "source": [
    "# plot side by side\n",
    "_, (ax1, ax2) = plt.subplots(1, 2, figsize=(12, 5))\n",
    "\n",
    "best.plot(ax=ax1, palette='Dark2', xlabel='time')\n",
    "m2.solve(tf=20.0).plot(ax=ax2, palette='Dark2', xlabel='time')\n",
    "\n",
    "plt.show()"
   ]
  },
  {
   "cell_type": "markdown",
   "metadata": {},
   "source": [
    "###  Parameter estimation: glyoxalase system"
   ]
  },
  {
   "cell_type": "markdown",
   "metadata": {},
   "source": [
    "An example with **two time courses**"
   ]
  },
  {
   "cell_type": "code",
   "execution_count": null,
   "metadata": {},
   "outputs": [],
   "source": [
    "mdl = \"\"\"\n",
    "title example 2: Glyoxalase system in L. Infantum\n",
    "\n",
    "glx1 : HTA -> SDLTSH, V1*HTA/(Km1 + HTA)\n",
    "#glx1 : HTA -> SDLTSH, V*HTA/(Km1 + HTA), V=2.57594e-05\n",
    "glx2 : SDLTSH ->,     V2*SDLTSH/(Km2 + SDLTSH)\n",
    "\n",
    "#find glx1.V  in [0.00001, 0.0001]\n",
    "find V1  in [0.00001, 0.0001]\n",
    "\n",
    "Km1 = 0.252531\n",
    "find Km1 in [0.01, 1]\n",
    "\n",
    "V2  = 2.23416e-05\n",
    "find V2 in [0.00001, 0.0001]\n",
    "\n",
    "Km2 = 0.0980973\n",
    "find Km2 in (0.01, 1)\n",
    "\n",
    "init : (SDLTSH = 7.69231E-05, HTA = 0.1357)\n",
    "\n",
    "timecourse TSH2a.txt\n",
    "timecourse TSH2b.txt\n",
    "\"\"\"\n",
    "m1 = read_model(mdl)\n",
    "print(mdl)"
   ]
  },
  {
   "cell_type": "code",
   "execution_count": null,
   "metadata": {},
   "outputs": [],
   "source": [
    "tcdir = get_examples_path()\n",
    "\n",
    "optimum = m1.estimate(tc_dir=tcdir, names=['SDLTSH', 'HTA'])\n",
    "print(optimum)"
   ]
  },
  {
   "cell_type": "code",
   "execution_count": null,
   "metadata": {},
   "outputs": [],
   "source": [
    "#plt.style.use('bmh')\n",
    "\n",
    "_, (ax1, ax2) = plt.subplots(1, 2, figsize=(12, 5), sharey='row')\n",
    "optimum.plot(0, ax=ax1, xlabel='t (s)', ylabel='conc (microM)')\n",
    "optimum.plot(1, ax=ax2, xlabel='t (s)', ylabel='conc (microM)');"
   ]
  },
  {
   "cell_type": "markdown",
   "metadata": {},
   "source": [
    "-----------\n",
    "\n",
    "### An example with an **unknown initial value**"
   ]
  },
  {
   "cell_type": "code",
   "execution_count": null,
   "metadata": {},
   "outputs": [],
   "source": [
    "m2 = m1.copy()\n",
    "\n",
    "# Assume init.HTA is uncertain\n",
    "m2.init.HTA.set_bounds((0.05,0.25))\n",
    "\n",
    "# do not estimate Km1 and Km2, just to help the analysis\n",
    "m2.parameters.Km1.set_bounds(None)\n",
    "m2.parameters.Km2.set_bounds(None)\n",
    "m2.parameters.Km1 = 0.252531\n",
    "m2.parameters.Km2 = 0.0980973\n",
    "\n",
    "\n",
    "# VERY IMPORTANT:\n",
    "# only one time course can be used: \n",
    "# cannot fit one initial value using several timecourses!\n",
    "\n",
    "best = m2.estimate(['TSH2a.txt'], names=['SDLTSH', 'HTA'], tc_dir=tcdir, opt_settings=dict(pop_size=60))\n",
    "\n",
    "print(best)"
   ]
  },
  {
   "cell_type": "code",
   "execution_count": null,
   "metadata": {},
   "outputs": [],
   "source": [
    "best.plot();"
   ]
  },
  {
   "cell_type": "markdown",
   "metadata": {},
   "source": [
    "### An example with a transformation"
   ]
  },
  {
   "cell_type": "code",
   "execution_count": null,
   "metadata": {},
   "outputs": [],
   "source": [
    "mtransf = read_model(\"\"\"\n",
    "title example 2, fitting a transformation\n",
    "\n",
    "glx1 : HTA -> SDLTSH, V1*HTA/(Km1 + HTA)\n",
    "#glx1 : HTA -> SDLTSH, V*HTA/(Km1 + HTA), V=2.57594e-05\n",
    "glx2 : SDLTSH ->,     V2*SDLTSH/(Km2 + SDLTSH)\n",
    "\n",
    "#find glx1.V  in [0.00001, 0.0001]\n",
    "find V1  in [0.00001, 0.0001]\n",
    "\n",
    "Km1 = 0.252531\n",
    "find Km1 in [0.01, 1]\n",
    "\n",
    "V2  = 2.23416e-05\n",
    "find V2 in [0.00001, 0.0001]\n",
    "\n",
    "Km2 = 0.0980973\n",
    "find Km2 in (0.01, 1)\n",
    "\n",
    "~sdlx2 = 2 * SDLTSH # the transformation to fit\n",
    "\n",
    "!! sdlx2\n",
    "\n",
    "init : (SDLTSH = 7.69231E-05, HTA = 0.1357)\n",
    "\n",
    "\"\"\")\n",
    "\n",
    "optimum = mtransf.estimate(tc_dir=tcdir,\n",
    "                           timecourses=['tc_double.txt'],\n",
    "                           names=['sdlx2', 'SDLTSH', 'HTA'])\n",
    "\n",
    "print(optimum)\n",
    "optimum.plot()\n",
    "plt.show()"
   ]
  }
 ],
 "metadata": {
  "anaconda-cloud": {},
  "kernelspec": {
   "display_name": "Python 3 (ipykernel)",
   "language": "python",
   "name": "python3"
  },
  "language_info": {
   "codemirror_mode": {
    "name": "ipython",
    "version": 3
   },
   "file_extension": ".py",
   "mimetype": "text/x-python",
   "name": "python",
   "nbconvert_exporter": "python",
   "pygments_lexer": "ipython3",
   "version": "3.8.5"
  }
 },
 "nbformat": 4,
 "nbformat_minor": 1
}
