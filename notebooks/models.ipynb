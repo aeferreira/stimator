{
 "cells": [
  {
   "cell_type": "code",
   "execution_count": null,
   "metadata": {
    "collapsed": true
   },
   "outputs": [],
   "source": [
    "%matplotlib inline"
   ]
  },
  {
   "cell_type": "markdown",
   "metadata": {},
   "source": [
    "## 2 - More on models and model description"
   ]
  },
  {
   "cell_type": "markdown",
   "metadata": {},
   "source": [
    "This chapter will focus on the \"mini-language\" used to describe models in S-timator and also on the model objects created by function `read_model()`"
   ]
  },
  {
   "cell_type": "code",
   "execution_count": null,
   "metadata": {
    "collapsed": false
   },
   "outputs": [],
   "source": [
    "from stimator import read_model"
   ]
  },
  {
   "cell_type": "markdown",
   "metadata": {},
   "source": [
    "Picking up the last example from the previous chapter: the _open two-enzyme system_:\n",
    "\n",
    "![Example: a two-reaction open chemical system](images/2chem_open.png)"
   ]
  },
  {
   "cell_type": "markdown",
   "metadata": {},
   "source": [
    "Recall that the minimum components of a model declaration are:\n",
    "\n",
    "- title\n",
    "- reactions\n",
    "- parameters\n",
    "- init"
   ]
  },
  {
   "cell_type": "code",
   "execution_count": null,
   "metadata": {
    "collapsed": false
   },
   "outputs": [],
   "source": [
    "model_description = \"\"\"\n",
    "title An open two-reaction chemical system\n",
    "\n",
    "inflow: -> A, rate = kin\n",
    "r1: A -> B, rate = k1 * A\n",
    "r2: B -> C, rate = k2 * B - k3 * C\n",
    "outflow: C ->, rate = kout * C\n",
    "\n",
    "kin = 0.5\n",
    "k1 = 0.1\n",
    "k2 = 2\n",
    "k3 = 1\n",
    "kout = 0.2\n",
    "\n",
    "init: (A = 0, B = 0, C = 0)\n",
    "\"\"\"\n",
    "\n",
    "m = read_model(model_description)"
   ]
  },
  {
   "cell_type": "code",
   "execution_count": null,
   "metadata": {
    "collapsed": false
   },
   "outputs": [],
   "source": [
    "print(m)"
   ]
  },
  {
   "cell_type": "markdown",
   "metadata": {},
   "source": [
    "### 2.1 - Reactions"
   ]
  },
  {
   "cell_type": "markdown",
   "metadata": {},
   "source": [
    "You can iterate over the reactions of a model:"
   ]
  },
  {
   "cell_type": "code",
   "execution_count": null,
   "metadata": {
    "collapsed": false
   },
   "outputs": [],
   "source": [
    "for v in m.reactions:\n",
    "    print (v)"
   ]
  },
  {
   "cell_type": "markdown",
   "metadata": {},
   "source": [
    "Or, just to get the names:"
   ]
  },
  {
   "cell_type": "code",
   "execution_count": null,
   "metadata": {
    "collapsed": false
   },
   "outputs": [],
   "source": [
    "for v in m.reactions:\n",
    "    print (v.name)"
   ]
  },
  {
   "cell_type": "markdown",
   "metadata": {},
   "source": [
    "A reaction has a lot of attributes:"
   ]
  },
  {
   "cell_type": "code",
   "execution_count": null,
   "metadata": {
    "collapsed": false
   },
   "outputs": [],
   "source": [
    "v = m.reactions.r1\n",
    "print (v.name)\n",
    "print (v.reagents)\n",
    "print (v.products)\n",
    "print (v.stoichiometry_string)\n",
    "print (v.stoichiometry)\n",
    "print (v())"
   ]
  },
  {
   "cell_type": "markdown",
   "metadata": {},
   "source": [
    "`Model.varnames` is a list of variable names and `Model.parameters` can be used to iterate over the parameters of a model."
   ]
  },
  {
   "cell_type": "code",
   "execution_count": null,
   "metadata": {
    "collapsed": false
   },
   "outputs": [],
   "source": [
    "print (m.varnames)\n",
    "for p in m.parameters:\n",
    "    print ('%6s = %g' % (p.name, p))"
   ]
  },
  {
   "cell_type": "markdown",
   "metadata": {},
   "source": [
    "### 2.2 - Transformations"
   ]
  },
  {
   "cell_type": "markdown",
   "metadata": {},
   "source": [
    "Transformations are declared starting a line with a `~`. These are quantities that vary over time but are not decribed by differential equations. In this example `total` is a transformation."
   ]
  },
  {
   "cell_type": "code",
   "execution_count": null,
   "metadata": {
    "collapsed": false
   },
   "outputs": [],
   "source": [
    "model_description = \"\"\"\n",
    "title An open two-reaction chemical system\n",
    "\n",
    "inflow: -> A, rate = kin\n",
    "r1: A -> B, rate = k1 * A\n",
    "r2: B -> C, rate = k2 * B - k3 * C\n",
    "outflow: C ->, rate = kout * C\n",
    "\n",
    "kin = 0.5\n",
    "k1 = 0.1\n",
    "k2 = 2\n",
    "k3 = 1\n",
    "kout = 0.2\n",
    "\n",
    "init: (A = 0, B = 0, C = 0)\n",
    "\n",
    "~ total = A + B + C\n",
    "\"\"\"\n",
    "\n",
    "m = read_model(model_description)\n",
    "print(m)"
   ]
  },
  {
   "cell_type": "code",
   "execution_count": null,
   "metadata": {
    "collapsed": false
   },
   "outputs": [],
   "source": [
    "m.solve(tf=50.0, outputs=[\"total\", 'A', 'B', 'C']).plot(show=True)"
   ]
  },
  {
   "cell_type": "markdown",
   "metadata": {},
   "source": [
    "### 2.3 - Local parameters in processes"
   ]
  },
  {
   "cell_type": "markdown",
   "metadata": {},
   "source": [
    "Parameters can also \"belong\", that is, being local, to processes. \n",
    "\n",
    "In this example, both `r1` and `r2` have local parameters\n",
    "\n",
    "Notice how thes paraemters are listed and refered to in `print m`:"
   ]
  },
  {
   "cell_type": "code",
   "execution_count": null,
   "metadata": {
    "collapsed": false
   },
   "outputs": [],
   "source": [
    "model_description = \"\"\"\n",
    "title An open two-reaction chemical system\n",
    "\n",
    "inflow: -> A, rate = kin\n",
    "r1: A -> B, rate = k * A, k = 0.1\n",
    "r2: B -> C, rate = kf * B - kr * C, kf = 2, kr = 1\n",
    "outflow: C ->, rate = kout * C\n",
    "\n",
    "kin = 0.5\n",
    "kout = 0.2\n",
    "\n",
    "init: (A = 0, B = 0, C = 0)\n",
    "\n",
    "~ total = A + B + C\n",
    "\"\"\"\n",
    "\n",
    "m = read_model(model_description)\n",
    "print(m)"
   ]
  },
  {
   "cell_type": "markdown",
   "metadata": {},
   "source": [
    "But this model is exactly the same has the previous model. The parameters were just made local. (`plot()` produces the same results)."
   ]
  },
  {
   "cell_type": "code",
   "execution_count": null,
   "metadata": {
    "collapsed": false
   },
   "outputs": [],
   "source": [
    "m.solve(tf=50.0, outputs=[\"total\", 'A', 'B', 'C']).plot()"
   ]
  },
  {
   "cell_type": "markdown",
   "metadata": {},
   "source": [
    "The iteration of the parameters is now different:"
   ]
  },
  {
   "cell_type": "code",
   "execution_count": null,
   "metadata": {
    "collapsed": false
   },
   "outputs": [],
   "source": [
    "for p in m.parameters:\n",
    "    print(p.name, p)"
   ]
  },
  {
   "cell_type": "markdown",
   "metadata": {},
   "source": [
    "### 2.4 - External variables"
   ]
  },
  {
   "cell_type": "markdown",
   "metadata": {},
   "source": [
    "An external variable is a parameter that appears in the stoichiometry of a reaction. It is treated as a constant.\n",
    "\n",
    "In this example, `D` is an external variable:"
   ]
  },
  {
   "cell_type": "code",
   "execution_count": null,
   "metadata": {
    "collapsed": false
   },
   "outputs": [],
   "source": [
    "m = read_model(\"\"\"\n",
    "title An open two-reaction chemical system\n",
    "\n",
    "inflow: D -> A, rate = kin * D\n",
    "r1: A -> B, rate = k * A, k = 0.1\n",
    "r2: B -> C, rate = kf * B - kr * C, kf = 2, kr = 1\n",
    "outflow: C -> E, rate = kout * C\n",
    "\n",
    "D = 1\n",
    "kin = 0.5\n",
    "kout = 0.2\n",
    "E = 2\n",
    "\n",
    "init: (A = 0, B = 0, C = 0)\n",
    "\n",
    "~ total = A + B + C\n",
    "\"\"\")\n",
    "print(m)"
   ]
  },
  {
   "cell_type": "code",
   "execution_count": null,
   "metadata": {
    "collapsed": false
   },
   "outputs": [],
   "source": [
    "m.solve(tf=50.0, outputs=['A', 'B', 'C', 'D', 'E']).plot()"
   ]
  },
  {
   "cell_type": "markdown",
   "metadata": {},
   "source": [
    "### 2.5 - Declaration of outputs"
   ]
  },
  {
   "cell_type": "markdown",
   "metadata": {},
   "source": [
    "You can use `!!` to specify what should go into the solution of the model:"
   ]
  },
  {
   "cell_type": "code",
   "execution_count": null,
   "metadata": {
    "collapsed": false
   },
   "outputs": [],
   "source": [
    "m = read_model(\"\"\"\n",
    "title An open two-reaction chemical system\n",
    "\n",
    "inflow: D -> A, rate = kin * D\n",
    "r1: A -> B, rate = k * A, k = 0.1\n",
    "r2: B -> C, rate = kf * B - kr * C, kf = 2, kr = 1\n",
    "outflow: C -> E, rate = kout * C\n",
    "\n",
    "D = 1\n",
    "kin = 0.5\n",
    "kout = 0.2\n",
    "E = 2\n",
    "\n",
    "init: (A = 0, B = 0, C = 0)\n",
    "\n",
    "~ total = A + B + C\n",
    "\n",
    "!! C D E\n",
    "\"\"\")\n",
    "m.solve(tf=50.0).plot()"
   ]
  },
  {
   "cell_type": "markdown",
   "metadata": {},
   "source": [
    "Or use the `outputs` argument to the `solve()` function (in the form of a list of desired outputs):"
   ]
  },
  {
   "cell_type": "code",
   "execution_count": null,
   "metadata": {
    "collapsed": false
   },
   "outputs": [],
   "source": [
    "m.solve(tf=50.0, outputs=['total', 'A']).plot()"
   ]
  },
  {
   "cell_type": "markdown",
   "metadata": {},
   "source": [
    "`->` can be used to specify the values of all the rates of all the processes."
   ]
  },
  {
   "cell_type": "code",
   "execution_count": null,
   "metadata": {
    "collapsed": false
   },
   "outputs": [],
   "source": [
    "m.solve(tf=50.0, outputs=['->', 'D']).plot()"
   ]
  },
  {
   "cell_type": "markdown",
   "metadata": {},
   "source": [
    "### 2.6 - Explicit differential equations"
   ]
  },
  {
   "cell_type": "code",
   "execution_count": null,
   "metadata": {
    "collapsed": false
   },
   "outputs": [],
   "source": [
    "m = read_model(\"\"\"\n",
    "title mass on a spring, frictionless\n",
    "\n",
    "# F = m * a = m * v' = - k * x\n",
    "# by Hooke's law and Newton's law of motion\n",
    "\n",
    "v' = -(k * x) / m\n",
    "x' = v\n",
    "\n",
    "m = 0.5\n",
    "k = 1\n",
    "\n",
    "init: x = 1\n",
    "\"\"\")\n",
    "m.solve(tf=10.0).plot()"
   ]
  },
  {
   "cell_type": "code",
   "execution_count": null,
   "metadata": {
    "collapsed": false
   },
   "outputs": [],
   "source": [
    "m = read_model(\"\"\"\n",
    "title mass on a spring, with friction\n",
    "\n",
    "# using Hooke's law and friction proportional to speed,\n",
    "# F = m * a = m * v' = - k * x - b * v\n",
    "\n",
    "v' = (-k*x - b*v) / m\n",
    "x' = v\n",
    "\n",
    "m = 0.5\n",
    "k = 1\n",
    "b = 0.5\n",
    "\n",
    "init: x = 1\n",
    "\"\"\")\n",
    "m.solve(tf=10.0).plot()"
   ]
  },
  {
   "cell_type": "markdown",
   "metadata": {},
   "source": [
    "### 2.7 - Forcing functions"
   ]
  },
  {
   "cell_type": "code",
   "execution_count": null,
   "metadata": {
    "collapsed": false
   },
   "outputs": [],
   "source": [
    "m = read_model(\"\"\"\n",
    "title An open two-reaction chemical system\n",
    "\n",
    "inflow: D -> A, rate = kin * D * step(t, 10, 1)\n",
    "r1: A -> B, rate = k * A, k = 0.1\n",
    "r2: B -> C, rate = kf * B - kr * C, kf = 2, kr = 1\n",
    "outflow: C -> E, rate = kout * C\n",
    "\n",
    "D = 1\n",
    "kin = 0.5\n",
    "kout = 0.2\n",
    "E = 2\n",
    "\n",
    "init: (A = 0, B = 0, C = 0)\n",
    "\n",
    "!! inflow A B C E\n",
    "\"\"\")\n",
    "m.solve(tf=50.0).plot()"
   ]
  }
 ],
 "metadata": {
  "kernelspec": {
   "display_name": "Python [default]",
   "language": "python",
   "name": "python3"
  },
  "language_info": {
   "codemirror_mode": {
    "name": "ipython",
    "version": 3
   },
   "file_extension": ".py",
   "mimetype": "text/x-python",
   "name": "python",
   "nbconvert_exporter": "python",
   "pygments_lexer": "ipython3",
   "version": "3.5.2"
  }
 },
 "nbformat": 4,
 "nbformat_minor": 0
}
